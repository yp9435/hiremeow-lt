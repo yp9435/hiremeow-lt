{
 "cells": [
  {
   "cell_type": "markdown",
   "id": "58f9d316-bb58-4228-b377-a8ae616e6526",
   "metadata": {},
   "source": [
    "### Extracting Text from Resumes\n",
    "In this file, i tried to use NER and Regualr Experessions to extract skills. education, experience etc."
   ]
  },
  {
   "cell_type": "code",
   "execution_count": 8,
   "id": "5a5ce068-38da-401b-925a-a4dd131c8184",
   "metadata": {},
   "outputs": [],
   "source": [
    "import re\n",
    "import spacy\n",
    "import pandas as pd\n",
    "import numpy as np\n",
    "from sklearn.feature_extraction.text import TfidfVectorizer\n",
    "from sklearn.metrics.pairwise import cosine_similarity\n",
    "from sentence_transformers import SentenceTransformer"
   ]
  },
  {
   "cell_type": "code",
   "execution_count": 50,
   "id": "2ea218cd-6afd-4c3c-aa94-c9db4f4ea807",
   "metadata": {},
   "outputs": [],
   "source": [
    "# Load spaCy model\n",
    "nlp = spacy.load(\"en_core_web_lg\")"
   ]
  },
  {
   "cell_type": "code",
   "execution_count": 51,
   "id": "1cb69d25-d55e-434d-b9db-dcb36467775f",
   "metadata": {},
   "outputs": [],
   "source": [
    "# Load sentence transformer model\n",
    "sentence_model = SentenceTransformer('paraphrase-MiniLM-L6-v2')"
   ]
  },
  {
   "cell_type": "code",
   "execution_count": 62,
   "id": "0c044c29-e1ee-4b08-a4cb-328e7b436a87",
   "metadata": {},
   "outputs": [],
   "source": [
    "yeshi = \"\"\"Yeshaswi Prakash\n",
    "91 90254 16053 \n",
    "yeshaswiprakash.com\n",
    "linkedin.com/in/yeshaswi\n",
    "github.com/yeshaswi\n",
    "\n",
    "Profile Summary\n",
    "Software Developer | 1 YOE | 4× Hackathon Winner | 3rd Year CSE Student at SRMIST\n",
    "Experienced in building AI and ML-powered applications, leading teams, and contributing to impactful projects. Actively involved in tech communities and campus leadership roles.\n",
    "\n",
    "Experience\n",
    "HeadStarter AI – Remote\n",
    "Software Engineering Fellow\n",
    "Jul 2024 – Sep 2024\n",
    "\n",
    "Built AI applications using Next.js, OpenAI, Pinecone, and Stripe API.\n",
    "\n",
    "Led a team of 3 engineering fellows.\n",
    "\n",
    "Mentored by engineers from Amazon, Bloomberg, and Capital One.\n",
    "\n",
    "Tiger Analytics – Chennai\n",
    "Software Engineering Intern\n",
    "Apr 2024 – Jul 2024\n",
    "\n",
    "Developed an ML recommendation system for an e-commerce client.\n",
    "\n",
    "Conducted EDA and created visualizations to uncover key business insights.\n",
    "\n",
    "Rotork – Chennai\n",
    "Software Engineering Intern\n",
    "Mar 2024 – Apr 2024\n",
    "\n",
    "Developed a Python desktop application with a simple UI for remote actuator software updates.\n",
    "\n",
    "Enabled non-technical users to perform updates without on-site visits.\n",
    "\n",
    "Education\n",
    "SRM Institute of Science and Technology – Chennai\n",
    "B.Tech in Computer Science and Engineering\n",
    "Sep 2022 – May 2026\n",
    "\n",
    "CGPA: 9.02\n",
    "\n",
    "Leadership Roles:\n",
    "\n",
    "Secretary, CSI Club\n",
    "\n",
    "Joint Treasurer, ACE Club\n",
    "\n",
    "Director of Design, NL Editorial Board\n",
    "\n",
    "D.A.V. Group of Schools (CBSE) – Chennai\n",
    "2008 – 2022\n",
    "\n",
    "Percentage: 82.4%\n",
    "\n",
    "Projects\n",
    "CourseGPT (Next.js, TypeScript, Firebase)\n",
    "\n",
    "Built an AI-powered web app to auto-generate editable course content and video scripts.\n",
    "\n",
    "Integrated Google Gemini and YouTube APIs.\n",
    "\n",
    "Features a Firebase backend and retro-inspired UI.\n",
    "\n",
    "Project Demo / Details on Portfolio\n",
    "\n",
    "Skills\n",
    "Languages\n",
    "Python (4 yrs), SQL (4 yrs), JavaScript (2 yrs), C++ (1 yr), C (1 yr), PHP (1 yr)\n",
    "\n",
    "Tools & Technologies\n",
    "React, TypeScript, Jupyter Notebook, Bootstrap, Git, Firebase, Figma, Adobe Photoshop, Spline\n",
    "\n",
    "Creative & Soft Skills\n",
    "Graphic Design, UI/UX Design, Event Coordination, Leadership, Teamwork\n",
    "\n",
    "Awards\n",
    "1st Place – Hack the Horizon (University Feature)\n",
    "1st Place – Hackonomics 2025 (University Feature)\n",
    "2nd Place – EDHacks 2024 (University Feature)\n",
    "3rd Place – Ideathon 4.0 2024 (University Feature)\n",
    "\n",
    "Volunteering\n",
    "Kalaiselvi Karunalaya Welfare Society – Chennai\n",
    "Summer 2024\n",
    "\n",
    "Volunteered at a combined orphanage and old age home.\"\"\""
   ]
  },
  {
   "cell_type": "code",
   "execution_count": 68,
   "id": "aae728c4-9d59-476e-bb66-950fdaf910d2",
   "metadata": {},
   "outputs": [],
   "source": [
    "#preprocess text\n",
    "def preprocess_text(text):\n",
    "    text = text.lower()\n",
    "    text = re.sub(r'https?://\\S+|www\\.\\S+', '', text)\n",
    "    text = re.sub(r'\\S+@\\S+', '', text)\n",
    "    text = re.sub(r'\\b\\d{3}[-.]?\\d{3}[-.]?\\d{4}\\b', '', text)\n",
    "    text = re.sub(r'[^\\w\\s]', ' ', text)\n",
    "    text = re.sub(r'\\s+', ' ', text).strip()\n",
    "    \n",
    "    return text"
   ]
  },
  {
   "cell_type": "code",
   "execution_count": 64,
   "id": "8fc9ff89-430b-4efe-bc40-9fd07cdece36",
   "metadata": {},
   "outputs": [
    {
     "name": "stdout",
     "output_type": "stream",
     "text": [
      "yeshaswi prakash 91 90254 16053 yeshaswiprakash com linkedin com in yeshaswi github com yeshaswi profile summary software developer 1 yoe 4 hackathon winner 3rd year cse student at srmist experienced in building ai and ml powered applications leading teams and contributing to impactful projects actively involved in tech communities and campus leadership roles experience headstarter ai remote software engineering fellow jul 2024 sep 2024 built ai applications using next js openai pinecone and stripe api led a team of 3 engineering fellows mentored by engineers from amazon bloomberg and capital one tiger analytics chennai software engineering intern apr 2024 jul 2024 developed an ml recommendation system for an e commerce client conducted eda and created visualizations to uncover key business insights rotork chennai software engineering intern mar 2024 apr 2024 developed a python desktop application with a simple ui for remote actuator software updates enabled non technical users to perform updates without on site visits education srm institute of science and technology chennai b tech in computer science and engineering sep 2022 may 2026 cgpa 9 02 leadership roles secretary csi club joint treasurer ace club director of design nl editorial board d a v group of schools cbse chennai 2008 2022 percentage 82 4 projects coursegpt next js typescript firebase built an ai powered web app to auto generate editable course content and video scripts integrated google gemini and youtube apis features a firebase backend and retro inspired ui project demo details on portfolio skills languages python 4 yrs sql 4 yrs javascript 2 yrs c 1 yr c 1 yr php 1 yr tools technologies react typescript jupyter notebook bootstrap git firebase figma adobe photoshop spline creative soft skills graphic design ui ux design event coordination leadership teamwork awards 1st place hack the horizon university feature 1st place hackonomics 2025 university feature 2nd place edhacks 2024 university feature 3rd place ideathon 4 0 2024 university feature volunteering kalaiselvi karunalaya welfare society chennai summer 2024 volunteered at a combined orphanage and old age home\n"
     ]
    }
   ],
   "source": [
    "print(preprocess_text(yeshi))\n",
    "ntext = preprocess_text(yeshi)"
   ]
  },
  {
   "cell_type": "markdown",
   "id": "4c693a6f-d1ed-45dc-81ec-d6c943b64b35",
   "metadata": {},
   "source": [
    "### SKILLLSSS"
   ]
  },
  {
   "cell_type": "code",
   "execution_count": 69,
   "id": "8d1a85f3-7ba6-4db1-9202-43283f4c24a4",
   "metadata": {},
   "outputs": [
    {
     "name": "stdout",
     "output_type": "stream",
     "text": [
      "['bootstrap', 'figma', 'firebase', 'git', 'github', 'javascript', 'leadership', 'photoshop', 'php', 'python', 'react', 'sql', 'teamwork', 'typescript']\n"
     ]
    }
   ],
   "source": [
    "def extract_skills(text, skill_patterns=None):\n",
    "    \n",
    "    common_skills = [\n",
    "        \"python\", \"java\", \"javascript\", \"c++\", \"c#\", \"ruby\", \"php\", \"swift\", \"kotlin\",\n",
    "        \"react\", \"angular\", \"vue\", \"django\", \"flask\", \"spring\", \"node.js\", \"express\",\n",
    "        \"tensorflow\", \"pytorch\", \"scikit-learn\", \"pandas\", \"numpy\", \"matplotlib\",\n",
    "        \"sql\", \"mysql\", \"postgresql\", \"mongodb\", \"oracle\", \"firebase\", \"aws\", \"azure\",\n",
    "        \"gcp\", \"docker\", \"kubernetes\", \"jenkins\", \"git\", \"github\", \"gitlab\", \"jira\",\n",
    "        \"agile\", \"scrum\", \"kanban\", \"html\", \"css\", \"sass\", \"less\", \"bootstrap\",\n",
    "        \"jquery\", \"typescript\", \"redux\", \"graphql\", \"rest\", \"soap\", \"json\", \"xml\",\n",
    "        \"linux\", \"unix\", \"windows\", \"macos\", \"android\", \"ios\", \"flutter\", \"react native\",\n",
    "        \"machine learning\", \"deep learning\", \"nlp\", \"computer vision\", \"data science\",\n",
    "        \"data analysis\", \"data visualization\", \"big data\", \"hadoop\", \"spark\", \"kafka\",\n",
    "        \"tableau\", \"power bi\", \"excel\", \"word\", \"powerpoint\", \"photoshop\", \"illustrator\",\n",
    "        \"figma\", \"sketch\", \"adobe xd\", \"ui/ux\", \"responsive design\", \"seo\", \"sem\",\n",
    "        \"digital marketing\", \"content marketing\", \"social media marketing\", \"email marketing\",\n",
    "        \"project management\", \"product management\", \"leadership\", \"teamwork\", \"communication\",\n",
    "        \"problem solving\", \"critical thinking\", \"creativity\", \"time management\", \"organization\"\n",
    "    ]\n",
    "    \n",
    "    doc = nlp(text)\n",
    "    \n",
    "    skills = []\n",
    "    \n",
    "    for skill in common_skills:\n",
    "        if re.search(r'\\b' + re.escape(skill) + r'\\b', text.lower()):\n",
    "            skills.append(skill)\n",
    "    \n",
    "    for ent in doc.ents:\n",
    "        if ent.label_ in [\"ORG\", \"PRODUCT\"]:\n",
    "            # Check if the entity is likely a skill (e.g., programming language, tool)\n",
    "            if ent.text.lower() in common_skills:\n",
    "                skills.append(ent.text.lower())\n",
    "    \n",
    "    skills = sorted(list(set(skills)))\n",
    "    \n",
    "    return skills\n",
    "\n",
    "print(extract_skills(ntext))"
   ]
  },
  {
   "cell_type": "markdown",
   "id": "1e18ae0b-1289-45c3-94dd-dd2bd28e0004",
   "metadata": {},
   "source": [
    "that looks pretty accurate."
   ]
  },
  {
   "cell_type": "markdown",
   "id": "b590d380-0ff7-46a6-a4de-a06485a1ecd9",
   "metadata": {},
   "source": [
    "### Education"
   ]
  },
  {
   "cell_type": "code",
   "execution_count": 70,
   "id": "7e935a6f-d674-4ea1-9fcf-a27c55fe102c",
   "metadata": {},
   "outputs": [
    {
     "name": "stdout",
     "output_type": "stream",
     "text": [
      "[{'degree': 'Ma', 'institution': 'education srm institute of science and technology chennai b tech', 'year': '2024'}]\n"
     ]
    }
   ],
   "source": [
    "def extract_education(text):\n",
    "    education_info = []\n",
    "\n",
    "    education_section = \"\"\n",
    "    blocks = re.split(r\"\\n{2,}|\\r\\n{2,}\", text)\n",
    "    for block in blocks:\n",
    "        if \"education\" in block.lower():\n",
    "            education_section = block\n",
    "            break\n",
    "\n",
    "    if not education_section:\n",
    "        education_section = text\n",
    "\n",
    "    lines = education_section.split(\"\\n\")\n",
    "    degree_keywords = [\n",
    "        \"bachelor\", \"master\", \"phd\", \"mba\", \"b.tech\", \"m.tech\", \"b.sc\", \"m.sc\", \"cbse\",\n",
    "        \"b tech\", \"m tech\", \"b.a\", \"m.a\", \"b.com\", \"m.com\"\n",
    "    ]\n",
    "\n",
    "    year_pattern = r\"(19|20)\\d{2}\"\n",
    "    \n",
    "    for line in lines:\n",
    "        line_lower = line.lower()\n",
    "        if any(deg in line_lower for deg in degree_keywords):\n",
    "            degree_match = re.search(r\"(b\\.?\\s?tech|m\\.?\\s?tech|bachelor(?:'s)?|master(?:'s)?|ph\\.?d\\.?|mba|b\\.?sc\\.?|m\\.?sc\\.?|cbse|b\\.?a\\.?|m\\.?a\\.?|b\\.?com|m\\.?com)\", line_lower)\n",
    "            year_match = re.findall(year_pattern, line)\n",
    "            degree = degree_match.group(0).upper() if degree_match else \"Unknown Degree\"\n",
    "\n",
    "            institution = \"Unknown Institution\"\n",
    "            doc = nlp(line)\n",
    "            for ent in doc.ents:\n",
    "                if ent.label_ == \"ORG\" and any(k in ent.text.lower() for k in [\"university\", \"college\", \"institute\", \"school\", \"academy\", \"cbse\"]):\n",
    "                    institution = ent.text\n",
    "                    break\n",
    "            else:\n",
    "                institution_guess = \" \".join(line.split()[:6])  # Take the first few words\n",
    "                institution = institution_guess\n",
    "\n",
    "            education_info.append({\n",
    "                \"degree\": degree.title(),\n",
    "                \"institution\": institution,\n",
    "                \"year\": re.search(year_pattern, line).group(0) if re.search(year_pattern, line) else None\n",
    "            })\n",
    "\n",
    "    return education_info\n",
    "\n",
    "print(extract_education(ntext))"
   ]
  },
  {
   "cell_type": "markdown",
   "id": "faaf52f5-23d4-40e4-a162-5393acb01067",
   "metadata": {},
   "source": [
    "ok i tried but its really hard, at least i got the srm and btech"
   ]
  },
  {
   "cell_type": "code",
   "execution_count": 71,
   "id": "4be55b30-0a0c-4e65-a682-4f906c391b80",
   "metadata": {},
   "outputs": [
    {
     "name": "stdout",
     "output_type": "stream",
     "text": [
      "[{'title': 'Developer', 'company': 'SRMIST', 'duration': None}, {'title': 'Head', 'company': 'HeadStarter AI', 'duration': 'Jul 2024 – Sep 2024'}, {'title': 'Software Engineer', 'company': 'Tiger Analytics', 'duration': 'Apr 2024 – Jul 2024'}, {'title': 'Software Engineer', 'company': 'Rotork', 'duration': 'Mar 2024 – Apr 2024'}, {'title': 'Lead', 'company': 'Company', 'duration': None}, {'title': 'Lead', 'company': 'Creative & Soft Skills', 'duration': None}]\n"
     ]
    }
   ],
   "source": [
    "def extract_experience(text):\n",
    "    doc = nlp(text)\n",
    "    \n",
    "    experience_keywords = [\n",
    "        \"experience\", \"work\", \"employment\", \"job\", \"position\", \"role\", \"career\",\n",
    "        \"professional\", \"occupation\", \"worked\", \"employed\", \"intern\", \"internship\"\n",
    "    ]\n",
    "    \n",
    "    job_title_patterns = [\n",
    "        r\"(?i)(software engineer|software engineering intern|developer|programmer|analyst|designer|architect|manager|director|lead|consultant|specialist|administrator|technician|officer|coordinator|assistant|associate|senior|junior|chief|head|vp|vice president|ceo|cto|cio|cfo|president|founder|co-founder)\"\n",
    "    ]\n",
    "    \n",
    "    duration_pattern = r\"(?i)(?:jan(?:uary)?|feb(?:ruary)?|mar(?:ch)?|apr(?:il)?|may|jun(?:e)?|jul(?:y)?|aug(?:ust)?|sep(?:tember)?|oct(?:ober)?|nov(?:ember)?|dec(?:ember)?)\\s+\\d{4}\\s+(?:to|–|-)\\s+(?:jan(?:uary)?|feb(?:ruary)?|mar(?:ch)?|apr(?:il)?|may|jun(?:e)?|jul(?:y)?|aug(?:ust)?|sep(?:tember)?|oct(?:ober)?|nov(?:ember)?|dec(?:ember)?)\\s+\\d{4}|(?:jan(?:uary)?|feb(?:ruary)?|mar(?:ch)?|apr(?:il)?|may|jun(?:e)?|jul(?:y)?|aug(?:ust)?|sep(?:tember)?|oct(?:ober)?|nov(?:ember)?|dec(?:ember)?)\\s+\\d{4}\\s+(?:to|–|-)\\s+present|(?:19|20)\\d{2}\\s+(?:to|–|-)\\s+(?:19|20)\\d{2}|(?:19|20)\\d{2}\\s+(?:to|–|-)\\s+present|\\d+\\s+years?|\\d+\\s+months?\"\n",
    "    \n",
    "    experience_sections = []\n",
    "    \n",
    "    paragraphs = text.split(\"\\n\\n\")\n",
    "    \n",
    "    for paragraph in paragraphs:\n",
    "        if any(keyword in paragraph.lower() for keyword in experience_keywords):\n",
    "            experience_sections.append(paragraph)\n",
    "    \n",
    "    experience_info = []\n",
    "    \n",
    "    for section in experience_sections:\n",
    "        title = \"Job Title\"\n",
    "        for pattern in job_title_patterns:\n",
    "            match = re.search(pattern, section)\n",
    "            if match:\n",
    "                title = match.group(0)\n",
    "                break\n",
    "        \n",
    "        company = \"Company\"\n",
    "        for ent in nlp(section).ents:\n",
    "            if ent.label_ == \"ORG\":\n",
    "                if not any(keyword in ent.text.lower() for keyword in [\"university\", \"college\", \"institute\", \"school\"]):\n",
    "                    company = ent.text\n",
    "                    break\n",
    "        \n",
    "        duration = None\n",
    "        duration_match = re.search(duration_pattern, section)\n",
    "        if duration_match:\n",
    "            duration = duration_match.group(0)\n",
    "        \n",
    "        experience_info.append({\n",
    "            \"title\": title,\n",
    "            \"company\": company,\n",
    "            \"duration\": duration\n",
    "        })\n",
    "    \n",
    "    if not experience_info:\n",
    "        # Extract job title\n",
    "        title = \"Job Title\"\n",
    "        for pattern in job_title_patterns:\n",
    "            match = re.search(pattern, text)\n",
    "            if match:\n",
    "                title = match.group(0)\n",
    "                break\n",
    "        \n",
    "        company = \"Company\"\n",
    "        for ent in doc.ents:\n",
    "            if ent.label_ == \"ORG\":\n",
    "                if not any(keyword in ent.text.lower() for keyword in [\"university\", \"college\", \"institute\", \"school\"]):\n",
    "                    company = ent.text\n",
    "                    break\n",
    "        \n",
    "        duration = None\n",
    "        duration_match = re.search(duration_pattern, text)\n",
    "        if duration_match:\n",
    "            duration = duration_match.group(0)\n",
    "        \n",
    "        experience_info.append({\n",
    "            \"title\": title,\n",
    "            \"company\": company,\n",
    "            \"duration\": duration\n",
    "        })\n",
    "    \n",
    "    return experience_info\n",
    "print(extract_experience(yeshi))"
   ]
  },
  {
   "cell_type": "markdown",
   "id": "c75816e4-3ddc-4821-a5ef-8df28e5de0c2",
   "metadata": {},
   "source": [
    "OoO titles are a bit vague like head and lead but it got all the company names right like Headstarter, Tiger Analytics and Rotork, though it does have some false positives here and there."
   ]
  },
  {
   "cell_type": "markdown",
   "id": "b0d3fff5-e69c-42d0-98f0-66f6d0556360",
   "metadata": {},
   "source": [
    "### all of it together"
   ]
  },
  {
   "cell_type": "code",
   "execution_count": 74,
   "id": "9a3f094f-cbeb-4603-a3a8-74e9bb110115",
   "metadata": {},
   "outputs": [
    {
     "name": "stdout",
     "output_type": "stream",
     "text": [
      "{'skills': ['bootstrap', 'figma', 'firebase', 'git', 'github', 'javascript', 'leadership', 'photoshop', 'php', 'python', 'react', 'sql', 'teamwork', 'typescript'], 'education': [{'degree': 'Ma', 'institution': 'education srm institute of science and technology chennai b tech', 'year': '2024'}], 'experience': [{'title': 'developer', 'company': 'cse', 'duration': None}], 'text': 'yeshaswi prakash 91 90254 16053 yeshaswiprakash com linkedin com in yeshaswi github com yeshaswi profile summary software developer 1 yoe 4 hackathon winner 3rd year cse student at srmist experienced in building ai and ml powered applications leading teams and contributing to impactful projects actively involved in tech communities and campus leadership roles experience headstarter ai remote software engineering fellow jul 2024 sep 2024 built ai applications using next js openai pinecone and stripe api led a team of 3 engineering fellows mentored by engineers from amazon bloomberg and capital one tiger analytics chennai software engineering intern apr 2024 jul 2024 developed an ml recommendation system for an e commerce client conducted eda and created visualizations to uncover key business insights rotork chennai software engineering intern mar 2024 apr 2024 developed a python desktop application with a simple ui for remote actuator software updates enabled non technical users to perform updates without on site visits education srm institute of science and technology chennai b tech in computer science and engineering sep 2022 may 2026 cgpa 9 02 leadership roles secretary csi club joint treasurer ace club director of design nl editorial board d a v group of schools cbse chennai 2008 2022 percentage 82 4 projects coursegpt next js typescript firebase built an ai powered web app to auto generate editable course content and video scripts integrated google gemini and youtube apis features a firebase backend and retro inspired ui project demo details on portfolio skills languages python 4 yrs sql 4 yrs javascript 2 yrs c 1 yr c 1 yr php 1 yr tools technologies react typescript jupyter notebook bootstrap git firebase figma adobe photoshop spline creative soft skills graphic design ui ux design event coordination leadership teamwork awards 1st place hack the horizon university feature 1st place hackonomics 2025 university feature 2nd place edhacks 2024 university feature 3rd place ideathon 4 0 2024 university feature volunteering kalaiselvi karunalaya welfare society chennai summer 2024 volunteered at a combined orphanage and old age home'}\n"
     ]
    }
   ],
   "source": [
    "def extract_resume_info(text):\n",
    "    preprocessed_text = preprocess_text(text)\n",
    "    \n",
    "    skills = extract_skills(preprocessed_text)\n",
    "    \n",
    "    education = extract_education(text)\n",
    "    \n",
    "    experience = extract_experience(text)\n",
    "    \n",
    "    resume_info = {\n",
    "        \"skills\": skills,\n",
    "        \"education\": education,\n",
    "        \"experience\": experience,\n",
    "        \"text\": preprocessed_text\n",
    "    }\n",
    "    \n",
    "    return resume_info\n",
    "\n",
    "print(extract_resume_info(ntext))"
   ]
  },
  {
   "cell_type": "code",
   "execution_count": null,
   "id": "ae28c379-5e77-4e58-a23d-c52f5c66db6a",
   "metadata": {},
   "outputs": [],
   "source": []
  }
 ],
 "metadata": {
  "kernelspec": {
   "display_name": "Python (venv)",
   "language": "python",
   "name": "myenv"
  },
  "language_info": {
   "codemirror_mode": {
    "name": "ipython",
    "version": 3
   },
   "file_extension": ".py",
   "mimetype": "text/x-python",
   "name": "python",
   "nbconvert_exporter": "python",
   "pygments_lexer": "ipython3",
   "version": "3.12.2"
  }
 },
 "nbformat": 4,
 "nbformat_minor": 5
}
